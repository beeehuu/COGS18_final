{
 "cells": [
  {
   "cell_type": "markdown",
   "metadata": {},
   "source": [
    "#  Pokequiz\n",
    "My project is a quiz game that is designed to ask the user 16 questions about 16 different pokemon each of different type. The users goal is to type in the correct type with the correct pokemon. At the end of the 16 question there is a chatbot that asks how the user is doing and helps the user with learning about pokemon types by showing the complete list. There are 151 pokemon that are in this project. They are the first 151 pokemon in the browser. \n",
    "\n",
    "The chatbot is specific in what must be typed in and there are some code taken from A3 and also an online source too. How the user learns about pokemon and their types is by importing a webbrowser to open the pokemon website. \n",
    "\n",
    "There is also a hidden egg in the game! The user must correctly identify the legendary pokemon and type in 'legendary,' read the questions closely because one is different from the others! (Something wil open, so do not be alarmed!)\n",
    "\n",
    "Have fun with this pokequiz as it is meant for fun! "
   ]
  },
  {
   "cell_type": "markdown",
   "metadata": {},
   "source": [
    "# Extra directions\n",
    "All 16 questions in the quiz must be answered before moving on. Type in one of the choices that are given.\n",
    "\n",
    "To exit the chatbot, type in 'quit' and type in one of the choices that are given as well."
   ]
  },
  {
   "cell_type": "markdown",
   "metadata": {},
   "source": [
    "# Import\n",
    "Import needed modules over"
   ]
  },
  {
   "cell_type": "code",
   "execution_count": 1,
   "metadata": {},
   "outputs": [],
   "source": [
    "from my_module.pokegame_functions import*\n",
    "from my_module.pokegame_test_functions import*"
   ]
  },
  {
   "cell_type": "code",
   "execution_count": 2,
   "metadata": {},
   "outputs": [
    {
     "name": "stdout",
     "output_type": "stream",
     "text": [
      "You will be given 16 questions to answer.\n",
      "Your choices are: poison, fire, ground, water, fairy, grass, bug, normal, electric, flying, fighting, dragon, ghost, steel, and psychic. There might be a special one.\n",
      "What type is Bellsprout?Grass\n",
      "What type is Rapidash?fire\n",
      "What type is Slowbro?water\n",
      "What type is Spearow?flying\n",
      "What type is Weedle?bug\n",
      "What type is Tauros?ground\n",
      "What type is Electrode?electric\n",
      "What type is Marowak?fighting\n",
      "What type is Clefairy?fairy\n",
      "What type is Nidoran?poison\n",
      "What type is Primape?fighting\n",
      "What type is Alakazam?not sure\n",
      "What type is Magneton?metal\n",
      "What type is Gastly?ghost\n",
      "What type is Dratini?dragon\n",
      "What is Zaptos?legendary\n",
      "you got 11 out of 15! Now activate talk_time for some support!\n"
     ]
    },
    {
     "data": {
      "text/plain": [
       "(True, ' GOOD JOB YOU GOT THE LEGENDARY QUESTION RIGHT!')"
      ]
     },
     "execution_count": 2,
     "metadata": {},
     "output_type": "execute_result"
    }
   ],
   "source": [
    "run_quiz(correct_a)"
   ]
  },
  {
   "cell_type": "code",
   "execution_count": 3,
   "metadata": {},
   "outputs": [
    {
     "name": "stdout",
     "output_type": "stream",
     "text": [
      "Are you happy with your score? yes or no?\n",
      "User : yes\n",
      "Comp : Thats good to hear you are happy with your score! please type in 'okay'\n",
      "User : okay\n",
      "Comp : Would looking at a list of the pokemon help? Type in 'link' and a browser of the pokemon will open!\n",
      "User : link\n",
      "Comp : (True, ' This should help right? Yeah or nah?')\n",
      "User : yeah\n",
      "Comp : Only one way to find out! I hope this helps! Now try the quiz again! I think you get a better score! To exit type in 'quit' and start run_quiz again!\n",
      "User : quit\n",
      "Comp : You did well and your score does not define you!\n"
     ]
    }
   ],
   "source": [
    "talk_time()"
   ]
  },
  {
   "cell_type": "code",
   "execution_count": 4,
   "metadata": {},
   "outputs": [],
   "source": [
    "test_everything()"
   ]
  }
 ],
 "metadata": {
  "kernelspec": {
   "display_name": "Python 3",
   "language": "python",
   "name": "python3"
  },
  "language_info": {
   "codemirror_mode": {
    "name": "ipython",
    "version": 3
   },
   "file_extension": ".py",
   "mimetype": "text/x-python",
   "name": "python",
   "nbconvert_exporter": "python",
   "pygments_lexer": "ipython3",
   "version": "3.7.3"
  }
 },
 "nbformat": 4,
 "nbformat_minor": 2
}
